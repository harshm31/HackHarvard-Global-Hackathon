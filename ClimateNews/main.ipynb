{
 "cells": [
  {
   "cell_type": "code",
   "execution_count": 1,
   "metadata": {},
   "outputs": [],
   "source": [
    "import requests\n",
    "from bs4 import BeautifulSoup\n",
    "from datetime import datetime\n",
    "import os\n",
    "import shutil\n",
    "import news_json_parser as njp"
   ]
  },
  {
   "cell_type": "code",
   "execution_count": 2,
   "metadata": {},
   "outputs": [
    {
     "name": "stdout",
     "output_type": "stream",
     "text": [
      "211218\n"
     ]
    }
   ],
   "source": [
    "cwd = os.getcwd()\n",
    "#get today's date \n",
    "date1 = str(datetime.now()).split(' ')[0]\n",
    "dt = datetime.strptime(date1, '%Y-%m-%d')\n",
    "yr = dt.year%100\n",
    "m = dt.month\n",
    "d = dt.day\n",
    "folder_name = str(d)+str(m)+str(yr)\n",
    "print(folder_name)"
   ]
  },
  {
   "cell_type": "code",
   "execution_count": 8,
   "metadata": {},
   "outputs": [
    {
     "name": "stderr",
     "output_type": "stream",
     "text": [
      "/root/anaconda2/envs/py35/lib/python3.5/site-packages/urllib3/connectionpool.py:857: InsecureRequestWarning: Unverified HTTPS request is being made. Adding certificate verification is strongly advised. See: https://urllib3.readthedocs.io/en/latest/advanced-usage.html#ssl-warnings\n",
      "  InsecureRequestWarning)\n"
     ]
    },
    {
     "name": "stdout",
     "output_type": "stream",
     "text": [
      "{'date': 'December 20, 2018', 'data': [{'heading': '9 Eastern States Target Vehicle Emissions with New Cap-and-Trade Plan', 'link': 'https://insideclimatenews.org/news/20122018/climate-change-solutions-transportation-cap-and-trade-northeast-states-washington-california-model-rggi', 'source': '(InsideClimate News)', 'content': \"Nine Eastern states have committed to cut transportation emissions in their region by designing a new cap-and-trade system. Details have yet to be worked out, but it's likely to follow California's example, with funds going to low-carbon choices like electric vehicles and public transit.\"}, {'heading': 'Powerless: What It Looks Like When a Gas Driller Overruns Your Land', 'link': 'https://www.wvgazettemail.com/news/wv_troubled_transition/reasonably-necessary-how-natural-gas-drilling-is-changing-wv-s/article_b9853173-0147-52b1-ad2c-f3c5e293a7b1.html', 'source': '(Charleston Gazette-Mail and ProPublica)', 'content': 'The gas rush in West Virginia is changing the face of the state. Land owners often don\\'t own the natural gas beneath the surface, and long-standing property rights law says mineral owners may do whatever is \"reasonably necessary\" to extract natural gas from the ground, whether they own the affected land above or not.'}, {'heading': 'EPA Grants Exxon ‘Hardship Waiver’ from Biofuels Law, Sources Say', 'link': 'https://www.reuters.com/article/us-usa-biofuels-exxon-mobil-exclusive-idUSKCN1OI292', 'source': '(Reuters)', 'content': 'ExxonMobil reported nearly $20 billion in earnings last year, but the EPA still granted a \"hardship waiver\" this year that temporarily frees its Montana refinery from U.S. biofuel laws, Reuters reports, citing three sources familiar with the matter. The waiver program was meant to help small fuel facilities.'}, {'heading': \"Rising Waters Threaten to Drown Amtrak's Northeast Corridor\", 'link': 'https://www.bloomberg.com/graphics/2018-amtrak-sea-level/', 'source': '(Bloomberg)', 'content': \"A report on Amtrak's climate vulnerabilities shows that operations in Delaware and other parts of its Northeast Corridor route are immediately threatened by the effects of climate change. Flooding, rising seas and storm surge are identified as the biggest dangers.\"}, {'heading': 'CBO Dismisses Costs of Global Warming, Posing Hurdle for Climate Legislation', 'link': 'https://www.huffingtonpost.com/entry/congressional-budget-office-climate-change_us_5c1a735de4b01059bfc62b8c', 'source': '(The Huffington Post)', 'content': 'Deep inside a lengthy report, the Congressional Budget Office claims that climate change poses little economic risk to the U.S. in the next decade, a statement that ignores the strong science-based warnings issued a few weeks ago by 13 federal agencies in the latest National Climate Assessment, as well as warnings from national intelligence agencies earlier this year.'}, {'heading': 'Senators Flake, Coons Introduce Bipartisan Climate Bill', 'link': 'https://thehill.com/policy/energy-environment/422152-gop-sen-jeff-flake-to-co-introduce-bipartisan-climate-bill', 'source': '(The Hill)', 'content': \"Sens. Jeff Flake (R-Ariz.) and Chris Coons (D-Del.) introduced a carbon pricing bill on Wednesday. The bill is a companion to legislation introduced by a bipartisan group in the House in November. Given the timing, it's unlikely to get attention this year, though, and Flake is leaving office in January. \"}, {'heading': 'Controversial Great Lakes Pipeline Tunnel Given Final Approval', 'link': 'https://www.ecowatch.com/michigan-pipeline-tunnel-final-approval-2623937150.html', 'source': '(EcoWatch)', 'content': 'Enbridge has been given the final go-ahead to replace its aging Line 5 pipelines with a tunnel, which will be drilled into the bedrock beneath the Straits of Mackinac. Opponents are concerned that it locks in more fossil fuels for decades to come.'}, {'heading': 'House Climate Change Panel Unlikely to Have Subpoena Power', 'link': 'https://thehill.com/policy/energy-environment/422132-house-climate-change-panel-unlikely-to-have-subpoena-power', 'source': '(The Hill)', 'content': 'The climate change committee that Democrats plan to establish will serve as an \"recommendatory committee\" for other committees, incoming House Majority Leader Steny Hoyer told reporters. That means it wouldn\\'t be able to issue subpoenas.'}]}\n"
     ]
    }
   ],
   "source": [
    "#code to scrape data from website \n",
    "url = \"https://insideclimatenews.org/todaysclimate\"\n",
    "req = requests.get(url , verify = False)\n",
    "soup = BeautifulSoup(req.content,\"html\")\n",
    "\n",
    "try :\n",
    "    output=njp.get_json_output(soup)\n",
    "    print(output)\n",
    "except Exception as e :\n",
    "    print(e)"
   ]
  },
  {
   "cell_type": "code",
   "execution_count": null,
   "metadata": {},
   "outputs": [],
   "source": []
  }
 ],
 "metadata": {
  "kernelspec": {
   "display_name": "Python 3",
   "language": "python",
   "name": "python3"
  },
  "language_info": {
   "codemirror_mode": {
    "name": "ipython",
    "version": 3
   },
   "file_extension": ".py",
   "mimetype": "text/x-python",
   "name": "python",
   "nbconvert_exporter": "python",
   "pygments_lexer": "ipython3",
   "version": "3.5.5"
  }
 },
 "nbformat": 4,
 "nbformat_minor": 2
}
